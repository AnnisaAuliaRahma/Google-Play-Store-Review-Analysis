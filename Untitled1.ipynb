{
 "cells": [
  {
   "cell_type": "code",
   "execution_count": null,
   "metadata": {},
   "outputs": [],
   "source": [
    "while True:\n",
    "    try:\n",
    "        vize = int(input(\"Vize Notunuzu Giriniz: \")) \n",
    "        break\n",
    "    except ValueError:\n",
    "        print(\"No valid integer! Please try again ...\")\n",
    "print(\"Great, you successfully entered an integer!\")"
   ]
  },
  {
   "cell_type": "code",
   "execution_count": null,
   "metadata": {},
   "outputs": [],
   "source": [
    "#vize =int(input(\"Vize Notunuzu Giriniz: \")) \n",
    "#ödev =int(input(\"Ödev Notunuzu Giriniz: \"))\n",
    "#final =int(input(\"Final Notunuzu Giriniz: \")) \n",
    "    \n",
    "while True:\n",
    "    try:\n",
    "        vize = int(input(\"Vize Notunuzu Giriniz: \")) \n",
    "        y = float(vize)\n",
    "        break\n",
    "    except ValueError:\n",
    "        print(\"Lütfen 0-100 Arasında Bir Sayı Giriniz!\")\n",
    "print('berhasil')\n",
    "    #continue\n",
    "    '''\n",
    "    while True:\n",
    "    ödev = input(\"Ödev Notunuzu Giriniz: \")\n",
    "    if ödev:\n",
    "        break\n",
    "    try:\n",
    "        y = float(ödev)\n",
    "    except ValueError:\n",
    "        print(\"Lütfen 0-100 Arasında Bir Sayı Giriniz!\")\n",
    "    continue\n",
    "\n",
    "while True:\n",
    "    final = input(\"Final Notunuzu Giriniz: \")\n",
    "    if final:\n",
    "        break\n",
    "    try:\n",
    "        y = float(final)\n",
    "    except ValueError:\n",
    "        print(\"Lütfen 0-100 Arasında Bir Sayı Giriniz!\")\n",
    "    continue \n",
    "    \n",
    "    '''\n",
    "\n",
    "\n",
    "ortalama = float((vize * 0.3) + (ödev * 0.2) + (final * 0.5)) \n",
    "#float(ortalama)\n",
    "\n",
    "print(\"Ortalamanız\", ortalama)\n",
    "\n",
    "if (ortalama >= 0 and ortalama <= 49 ):\n",
    "    print(\"FF / Dersten kaldınız\")\n",
    "elif (ortalama >= 50 and ortalama <= 54):\n",
    "    print(\"DD\")\n",
    "elif (ortalama >= 55 and ortalama <= 59):\n",
    "    print(\"DC\")\n",
    "elif (ortalama >= 60 and ortalama <= 69 ):\n",
    "    print(\"CC\")\n",
    "elif (ortalama >= 70 and ortalama <= 79 ):\n",
    "    print(\"CB\")\n",
    "elif (ortalama >= 80 and ortalama <= 84 ):\n",
    "    print(\"BB\")\n",
    "elif (ortalama >= 85 and ortalama <= 89 ):\n",
    "    print(\"BA\")\n",
    "else :\n",
    "    print(\"AA\")"
   ]
  }
 ],
 "metadata": {
  "kernelspec": {
   "display_name": "Python 3",
   "language": "python",
   "name": "python3"
  },
  "language_info": {
   "codemirror_mode": {
    "name": "ipython",
    "version": 3
   },
   "file_extension": ".py",
   "mimetype": "text/x-python",
   "name": "python",
   "nbconvert_exporter": "python",
   "pygments_lexer": "ipython3",
   "version": "3.7.6"
  }
 },
 "nbformat": 4,
 "nbformat_minor": 4
}
